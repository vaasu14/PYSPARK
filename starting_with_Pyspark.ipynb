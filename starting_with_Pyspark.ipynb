{
  "nbformat": 4,
  "nbformat_minor": 0,
  "metadata": {
    "colab": {
      "name": "starting with Pyspark.ipynb",
      "provenance": [],
      "collapsed_sections": [],
      "authorship_tag": "ABX9TyNy0JfTY02pTfS2O8Ccw8+i",
      "include_colab_link": true
    },
    "kernelspec": {
      "name": "python3",
      "display_name": "Python 3"
    },
    "language_info": {
      "name": "python"
    }
  },
  "cells": [
    {
      "cell_type": "markdown",
      "metadata": {
        "id": "view-in-github",
        "colab_type": "text"
      },
      "source": [
        "<a href=\"https://colab.research.google.com/github/vaasu14/pyspark/blob/main/starting_with_Pyspark.ipynb\" target=\"_parent\"><img src=\"https://colab.research.google.com/assets/colab-badge.svg\" alt=\"Open In Colab\"/></a>"
      ]
    },
    {
      "cell_type": "code",
      "metadata": {
        "id": "OfLzyVqGNF8n"
      },
      "source": [
        "!apt-get install openjdk-8-jdk-headless -qq > /dev/null"
      ],
      "execution_count": 1,
      "outputs": []
    },
    {
      "cell_type": "code",
      "metadata": {
        "colab": {
          "base_uri": "https://localhost:8080/"
        },
        "id": "CwpFzhWeNSAi",
        "outputId": "635a091e-aad4-47f2-9057-f769ef71cb47"
      },
      "source": [
        "!pwd"
      ],
      "execution_count": 2,
      "outputs": [
        {
          "output_type": "stream",
          "text": [
            "/content\n"
          ],
          "name": "stdout"
        }
      ]
    },
    {
      "cell_type": "code",
      "metadata": {
        "id": "QNTXsES7Nfgj"
      },
      "source": [
        "!wget -q https://www-us.apache.org/dist/spark/spark-3.1.1//spark-3.1.1-bin-hadoop3.2.tgz  "
      ],
      "execution_count": 3,
      "outputs": []
    },
    {
      "cell_type": "code",
      "metadata": {
        "id": "8R6GZeo7NlJt"
      },
      "source": [
        "!tar xf spark-3.1.1-bin-hadoop3.2.tgz"
      ],
      "execution_count": 4,
      "outputs": []
    },
    {
      "cell_type": "code",
      "metadata": {
        "colab": {
          "base_uri": "https://localhost:8080/"
        },
        "id": "rHfXYkedN9x7",
        "outputId": "e2e7f285-5c9e-476c-d82f-84e61d5848c0"
      },
      "source": [
        "!pwd"
      ],
      "execution_count": 5,
      "outputs": [
        {
          "output_type": "stream",
          "text": [
            "/content\n"
          ],
          "name": "stdout"
        }
      ]
    },
    {
      "cell_type": "code",
      "metadata": {
        "colab": {
          "base_uri": "https://localhost:8080/"
        },
        "id": "NSmpOPVzOC8V",
        "outputId": "5f2bde49-a965-4eba-96ab-d6f501ce2cec"
      },
      "source": [
        "cd /content/spark-3.1.1-bin-hadoop3.2"
      ],
      "execution_count": 6,
      "outputs": [
        {
          "output_type": "stream",
          "text": [
            "/content/spark-3.1.1-bin-hadoop3.2\n"
          ],
          "name": "stdout"
        }
      ]
    },
    {
      "cell_type": "code",
      "metadata": {
        "id": "PBhGm-gPOP81"
      },
      "source": [
        "!pip install -q findspark"
      ],
      "execution_count": 7,
      "outputs": []
    },
    {
      "cell_type": "code",
      "metadata": {
        "id": "9rG_sVBoOVuu"
      },
      "source": [
        "import os\n",
        "os.environ[\"JAVA_HOME\"] = \"/usr/lib/jvm/java-8-openjdk-amd64\"\n",
        "os.environ[\"SPARK_HOME\"] = \"/content/spark-3.1.1-bin-hadoop3.2\""
      ],
      "execution_count": 8,
      "outputs": []
    },
    {
      "cell_type": "code",
      "metadata": {
        "id": "9IfAQd98OpGn"
      },
      "source": [
        "import findspark\n",
        "findspark.init()"
      ],
      "execution_count": 9,
      "outputs": []
    },
    {
      "cell_type": "code",
      "metadata": {
        "colab": {
          "base_uri": "https://localhost:8080/",
          "height": 35
        },
        "id": "QyytBG4iOwPK",
        "outputId": "f9a93033-592e-4653-e3b4-06e886edb293"
      },
      "source": [
        "findspark.find()"
      ],
      "execution_count": 10,
      "outputs": [
        {
          "output_type": "execute_result",
          "data": {
            "application/vnd.google.colaboratory.intrinsic+json": {
              "type": "string"
            },
            "text/plain": [
              "'/content/spark-3.1.1-bin-hadoop3.2'"
            ]
          },
          "metadata": {
            "tags": []
          },
          "execution_count": 10
        }
      ]
    },
    {
      "cell_type": "code",
      "metadata": {
        "id": "B_pngsQYO7Rr"
      },
      "source": [
        "from pyspark.sql import SparkSession\n",
        "spark = SparkSession.builder.appName('pyspark').getOrCreate()"
      ],
      "execution_count": 11,
      "outputs": []
    },
    {
      "cell_type": "code",
      "metadata": {
        "colab": {
          "base_uri": "https://localhost:8080/"
        },
        "id": "BcDJq29rsARS",
        "outputId": "6baf3eba-f25d-4600-96bd-9800488f7814"
      },
      "source": [
        "cd /content/spark-3.1.1-bin-hadoop3.2"
      ],
      "execution_count": 12,
      "outputs": [
        {
          "output_type": "stream",
          "text": [
            "/content/spark-3.1.1-bin-hadoop3.2\n"
          ],
          "name": "stdout"
        }
      ]
    },
    {
      "cell_type": "code",
      "metadata": {
        "colab": {
          "resources": {
            "http://localhost:8080/nbextensions/google.colab/files.js": {
              "data": "Ly8gQ29weXJpZ2h0IDIwMTcgR29vZ2xlIExMQwovLwovLyBMaWNlbnNlZCB1bmRlciB0aGUgQXBhY2hlIExpY2Vuc2UsIFZlcnNpb24gMi4wICh0aGUgIkxpY2Vuc2UiKTsKLy8geW91IG1heSBub3QgdXNlIHRoaXMgZmlsZSBleGNlcHQgaW4gY29tcGxpYW5jZSB3aXRoIHRoZSBMaWNlbnNlLgovLyBZb3UgbWF5IG9idGFpbiBhIGNvcHkgb2YgdGhlIExpY2Vuc2UgYXQKLy8KLy8gICAgICBodHRwOi8vd3d3LmFwYWNoZS5vcmcvbGljZW5zZXMvTElDRU5TRS0yLjAKLy8KLy8gVW5sZXNzIHJlcXVpcmVkIGJ5IGFwcGxpY2FibGUgbGF3IG9yIGFncmVlZCB0byBpbiB3cml0aW5nLCBzb2Z0d2FyZQovLyBkaXN0cmlidXRlZCB1bmRlciB0aGUgTGljZW5zZSBpcyBkaXN0cmlidXRlZCBvbiBhbiAiQVMgSVMiIEJBU0lTLAovLyBXSVRIT1VUIFdBUlJBTlRJRVMgT1IgQ09ORElUSU9OUyBPRiBBTlkgS0lORCwgZWl0aGVyIGV4cHJlc3Mgb3IgaW1wbGllZC4KLy8gU2VlIHRoZSBMaWNlbnNlIGZvciB0aGUgc3BlY2lmaWMgbGFuZ3VhZ2UgZ292ZXJuaW5nIHBlcm1pc3Npb25zIGFuZAovLyBsaW1pdGF0aW9ucyB1bmRlciB0aGUgTGljZW5zZS4KCi8qKgogKiBAZmlsZW92ZXJ2aWV3IEhlbHBlcnMgZm9yIGdvb2dsZS5jb2xhYiBQeXRob24gbW9kdWxlLgogKi8KKGZ1bmN0aW9uKHNjb3BlKSB7CmZ1bmN0aW9uIHNwYW4odGV4dCwgc3R5bGVBdHRyaWJ1dGVzID0ge30pIHsKICBjb25zdCBlbGVtZW50ID0gZG9jdW1lbnQuY3JlYXRlRWxlbWVudCgnc3BhbicpOwogIGVsZW1lbnQudGV4dENvbnRlbnQgPSB0ZXh0OwogIGZvciAoY29uc3Qga2V5IG9mIE9iamVjdC5rZXlzKHN0eWxlQXR0cmlidXRlcykpIHsKICAgIGVsZW1lbnQuc3R5bGVba2V5XSA9IHN0eWxlQXR0cmlidXRlc1trZXldOwogIH0KICByZXR1cm4gZWxlbWVudDsKfQoKLy8gTWF4IG51bWJlciBvZiBieXRlcyB3aGljaCB3aWxsIGJlIHVwbG9hZGVkIGF0IGEgdGltZS4KY29uc3QgTUFYX1BBWUxPQURfU0laRSA9IDEwMCAqIDEwMjQ7CgpmdW5jdGlvbiBfdXBsb2FkRmlsZXMoaW5wdXRJZCwgb3V0cHV0SWQpIHsKICBjb25zdCBzdGVwcyA9IHVwbG9hZEZpbGVzU3RlcChpbnB1dElkLCBvdXRwdXRJZCk7CiAgY29uc3Qgb3V0cHV0RWxlbWVudCA9IGRvY3VtZW50LmdldEVsZW1lbnRCeUlkKG91dHB1dElkKTsKICAvLyBDYWNoZSBzdGVwcyBvbiB0aGUgb3V0cHV0RWxlbWVudCB0byBtYWtlIGl0IGF2YWlsYWJsZSBmb3IgdGhlIG5leHQgY2FsbAogIC8vIHRvIHVwbG9hZEZpbGVzQ29udGludWUgZnJvbSBQeXRob24uCiAgb3V0cHV0RWxlbWVudC5zdGVwcyA9IHN0ZXBzOwoKICByZXR1cm4gX3VwbG9hZEZpbGVzQ29udGludWUob3V0cHV0SWQpOwp9CgovLyBUaGlzIGlzIHJvdWdobHkgYW4gYXN5bmMgZ2VuZXJhdG9yIChub3Qgc3VwcG9ydGVkIGluIHRoZSBicm93c2VyIHlldCksCi8vIHdoZXJlIHRoZXJlIGFyZSBtdWx0aXBsZSBhc3luY2hyb25vdXMgc3RlcHMgYW5kIHRoZSBQeXRob24gc2lkZSBpcyBnb2luZwovLyB0byBwb2xsIGZvciBjb21wbGV0aW9uIG9mIGVhY2ggc3RlcC4KLy8gVGhpcyB1c2VzIGEgUHJvbWlzZSB0byBibG9jayB0aGUgcHl0aG9uIHNpZGUgb24gY29tcGxldGlvbiBvZiBlYWNoIHN0ZXAsCi8vIHRoZW4gcGFzc2VzIHRoZSByZXN1bHQgb2YgdGhlIHByZXZpb3VzIHN0ZXAgYXMgdGhlIGlucHV0IHRvIHRoZSBuZXh0IHN0ZXAuCmZ1bmN0aW9uIF91cGxvYWRGaWxlc0NvbnRpbnVlKG91dHB1dElkKSB7CiAgY29uc3Qgb3V0cHV0RWxlbWVudCA9IGRvY3VtZW50LmdldEVsZW1lbnRCeUlkKG91dHB1dElkKTsKICBjb25zdCBzdGVwcyA9IG91dHB1dEVsZW1lbnQuc3RlcHM7CgogIGNvbnN0IG5leHQgPSBzdGVwcy5uZXh0KG91dHB1dEVsZW1lbnQubGFzdFByb21pc2VWYWx1ZSk7CiAgcmV0dXJuIFByb21pc2UucmVzb2x2ZShuZXh0LnZhbHVlLnByb21pc2UpLnRoZW4oKHZhbHVlKSA9PiB7CiAgICAvLyBDYWNoZSB0aGUgbGFzdCBwcm9taXNlIHZhbHVlIHRvIG1ha2UgaXQgYXZhaWxhYmxlIHRvIHRoZSBuZXh0CiAgICAvLyBzdGVwIG9mIHRoZSBnZW5lcmF0b3IuCiAgICBvdXRwdXRFbGVtZW50Lmxhc3RQcm9taXNlVmFsdWUgPSB2YWx1ZTsKICAgIHJldHVybiBuZXh0LnZhbHVlLnJlc3BvbnNlOwogIH0pOwp9CgovKioKICogR2VuZXJhdG9yIGZ1bmN0aW9uIHdoaWNoIGlzIGNhbGxlZCBiZXR3ZWVuIGVhY2ggYXN5bmMgc3RlcCBvZiB0aGUgdXBsb2FkCiAqIHByb2Nlc3MuCiAqIEBwYXJhbSB7c3RyaW5nfSBpbnB1dElkIEVsZW1lbnQgSUQgb2YgdGhlIGlucHV0IGZpbGUgcGlja2VyIGVsZW1lbnQuCiAqIEBwYXJhbSB7c3RyaW5nfSBvdXRwdXRJZCBFbGVtZW50IElEIG9mIHRoZSBvdXRwdXQgZGlzcGxheS4KICogQHJldHVybiB7IUl0ZXJhYmxlPCFPYmplY3Q+fSBJdGVyYWJsZSBvZiBuZXh0IHN0ZXBzLgogKi8KZnVuY3Rpb24qIHVwbG9hZEZpbGVzU3RlcChpbnB1dElkLCBvdXRwdXRJZCkgewogIGNvbnN0IGlucHV0RWxlbWVudCA9IGRvY3VtZW50LmdldEVsZW1lbnRCeUlkKGlucHV0SWQpOwogIGlucHV0RWxlbWVudC5kaXNhYmxlZCA9IGZhbHNlOwoKICBjb25zdCBvdXRwdXRFbGVtZW50ID0gZG9jdW1lbnQuZ2V0RWxlbWVudEJ5SWQob3V0cHV0SWQpOwogIG91dHB1dEVsZW1lbnQuaW5uZXJIVE1MID0gJyc7CgogIGNvbnN0IHBpY2tlZFByb21pc2UgPSBuZXcgUHJvbWlzZSgocmVzb2x2ZSkgPT4gewogICAgaW5wdXRFbGVtZW50LmFkZEV2ZW50TGlzdGVuZXIoJ2NoYW5nZScsIChlKSA9PiB7CiAgICAgIHJlc29sdmUoZS50YXJnZXQuZmlsZXMpOwogICAgfSk7CiAgfSk7CgogIGNvbnN0IGNhbmNlbCA9IGRvY3VtZW50LmNyZWF0ZUVsZW1lbnQoJ2J1dHRvbicpOwogIGlucHV0RWxlbWVudC5wYXJlbnRFbGVtZW50LmFwcGVuZENoaWxkKGNhbmNlbCk7CiAgY2FuY2VsLnRleHRDb250ZW50ID0gJ0NhbmNlbCB1cGxvYWQnOwogIGNvbnN0IGNhbmNlbFByb21pc2UgPSBuZXcgUHJvbWlzZSgocmVzb2x2ZSkgPT4gewogICAgY2FuY2VsLm9uY2xpY2sgPSAoKSA9PiB7CiAgICAgIHJlc29sdmUobnVsbCk7CiAgICB9OwogIH0pOwoKICAvLyBXYWl0IGZvciB0aGUgdXNlciB0byBwaWNrIHRoZSBmaWxlcy4KICBjb25zdCBmaWxlcyA9IHlpZWxkIHsKICAgIHByb21pc2U6IFByb21pc2UucmFjZShbcGlja2VkUHJvbWlzZSwgY2FuY2VsUHJvbWlzZV0pLAogICAgcmVzcG9uc2U6IHsKICAgICAgYWN0aW9uOiAnc3RhcnRpbmcnLAogICAgfQogIH07CgogIGNhbmNlbC5yZW1vdmUoKTsKCiAgLy8gRGlzYWJsZSB0aGUgaW5wdXQgZWxlbWVudCBzaW5jZSBmdXJ0aGVyIHBpY2tzIGFyZSBub3QgYWxsb3dlZC4KICBpbnB1dEVsZW1lbnQuZGlzYWJsZWQgPSB0cnVlOwoKICBpZiAoIWZpbGVzKSB7CiAgICByZXR1cm4gewogICAgICByZXNwb25zZTogewogICAgICAgIGFjdGlvbjogJ2NvbXBsZXRlJywKICAgICAgfQogICAgfTsKICB9CgogIGZvciAoY29uc3QgZmlsZSBvZiBmaWxlcykgewogICAgY29uc3QgbGkgPSBkb2N1bWVudC5jcmVhdGVFbGVtZW50KCdsaScpOwogICAgbGkuYXBwZW5kKHNwYW4oZmlsZS5uYW1lLCB7Zm9udFdlaWdodDogJ2JvbGQnfSkpOwogICAgbGkuYXBwZW5kKHNwYW4oCiAgICAgICAgYCgke2ZpbGUudHlwZSB8fCAnbi9hJ30pIC0gJHtmaWxlLnNpemV9IGJ5dGVzLCBgICsKICAgICAgICBgbGFzdCBtb2RpZmllZDogJHsKICAgICAgICAgICAgZmlsZS5sYXN0TW9kaWZpZWREYXRlID8gZmlsZS5sYXN0TW9kaWZpZWREYXRlLnRvTG9jYWxlRGF0ZVN0cmluZygpIDoKICAgICAgICAgICAgICAgICAgICAgICAgICAgICAgICAgICAgJ24vYSd9IC0gYCkpOwogICAgY29uc3QgcGVyY2VudCA9IHNwYW4oJzAlIGRvbmUnKTsKICAgIGxpLmFwcGVuZENoaWxkKHBlcmNlbnQpOwoKICAgIG91dHB1dEVsZW1lbnQuYXBwZW5kQ2hpbGQobGkpOwoKICAgIGNvbnN0IGZpbGVEYXRhUHJvbWlzZSA9IG5ldyBQcm9taXNlKChyZXNvbHZlKSA9PiB7CiAgICAgIGNvbnN0IHJlYWRlciA9IG5ldyBGaWxlUmVhZGVyKCk7CiAgICAgIHJlYWRlci5vbmxvYWQgPSAoZSkgPT4gewogICAgICAgIHJlc29sdmUoZS50YXJnZXQucmVzdWx0KTsKICAgICAgfTsKICAgICAgcmVhZGVyLnJlYWRBc0FycmF5QnVmZmVyKGZpbGUpOwogICAgfSk7CiAgICAvLyBXYWl0IGZvciB0aGUgZGF0YSB0byBiZSByZWFkeS4KICAgIGxldCBmaWxlRGF0YSA9IHlpZWxkIHsKICAgICAgcHJvbWlzZTogZmlsZURhdGFQcm9taXNlLAogICAgICByZXNwb25zZTogewogICAgICAgIGFjdGlvbjogJ2NvbnRpbnVlJywKICAgICAgfQogICAgfTsKCiAgICAvLyBVc2UgYSBjaHVua2VkIHNlbmRpbmcgdG8gYXZvaWQgbWVzc2FnZSBzaXplIGxpbWl0cy4gU2VlIGIvNjIxMTU2NjAuCiAgICBsZXQgcG9zaXRpb24gPSAwOwogICAgZG8gewogICAgICBjb25zdCBsZW5ndGggPSBNYXRoLm1pbihmaWxlRGF0YS5ieXRlTGVuZ3RoIC0gcG9zaXRpb24sIE1BWF9QQVlMT0FEX1NJWkUpOwogICAgICBjb25zdCBjaHVuayA9IG5ldyBVaW50OEFycmF5KGZpbGVEYXRhLCBwb3NpdGlvbiwgbGVuZ3RoKTsKICAgICAgcG9zaXRpb24gKz0gbGVuZ3RoOwoKICAgICAgY29uc3QgYmFzZTY0ID0gYnRvYShTdHJpbmcuZnJvbUNoYXJDb2RlLmFwcGx5KG51bGwsIGNodW5rKSk7CiAgICAgIHlpZWxkIHsKICAgICAgICByZXNwb25zZTogewogICAgICAgICAgYWN0aW9uOiAnYXBwZW5kJywKICAgICAgICAgIGZpbGU6IGZpbGUubmFtZSwKICAgICAgICAgIGRhdGE6IGJhc2U2NCwKICAgICAgICB9LAogICAgICB9OwoKICAgICAgbGV0IHBlcmNlbnREb25lID0gZmlsZURhdGEuYnl0ZUxlbmd0aCA9PT0gMCA/CiAgICAgICAgICAxMDAgOgogICAgICAgICAgTWF0aC5yb3VuZCgocG9zaXRpb24gLyBmaWxlRGF0YS5ieXRlTGVuZ3RoKSAqIDEwMCk7CiAgICAgIHBlcmNlbnQudGV4dENvbnRlbnQgPSBgJHtwZXJjZW50RG9uZX0lIGRvbmVgOwoKICAgIH0gd2hpbGUgKHBvc2l0aW9uIDwgZmlsZURhdGEuYnl0ZUxlbmd0aCk7CiAgfQoKICAvLyBBbGwgZG9uZS4KICB5aWVsZCB7CiAgICByZXNwb25zZTogewogICAgICBhY3Rpb246ICdjb21wbGV0ZScsCiAgICB9CiAgfTsKfQoKc2NvcGUuZ29vZ2xlID0gc2NvcGUuZ29vZ2xlIHx8IHt9OwpzY29wZS5nb29nbGUuY29sYWIgPSBzY29wZS5nb29nbGUuY29sYWIgfHwge307CnNjb3BlLmdvb2dsZS5jb2xhYi5fZmlsZXMgPSB7CiAgX3VwbG9hZEZpbGVzLAogIF91cGxvYWRGaWxlc0NvbnRpbnVlLAp9Owp9KShzZWxmKTsK",
              "ok": true,
              "headers": [
                [
                  "content-type",
                  "application/javascript"
                ]
              ],
              "status": 200,
              "status_text": ""
            }
          },
          "base_uri": "https://localhost:8080/",
          "height": 73
        },
        "id": "njYpTAJupXdP",
        "outputId": "548f10df-c9b9-43d7-9f96-75ad4a644dc3"
      },
      "source": [
        "from google.colab import files\n",
        "df=files.upload()"
      ],
      "execution_count": 13,
      "outputs": [
        {
          "output_type": "display_data",
          "data": {
            "text/html": [
              "\n",
              "     <input type=\"file\" id=\"files-a9d9d4c6-0735-44c2-b114-bcf184424eb7\" name=\"files[]\" multiple disabled\n",
              "        style=\"border:none\" />\n",
              "     <output id=\"result-a9d9d4c6-0735-44c2-b114-bcf184424eb7\">\n",
              "      Upload widget is only available when the cell has been executed in the\n",
              "      current browser session. Please rerun this cell to enable.\n",
              "      </output>\n",
              "      <script src=\"/nbextensions/google.colab/files.js\"></script> "
            ],
            "text/plain": [
              "<IPython.core.display.HTML object>"
            ]
          },
          "metadata": {
            "tags": []
          }
        },
        {
          "output_type": "stream",
          "text": [
            "Saving weatherHistory.csv to weatherHistory.csv\n"
          ],
          "name": "stdout"
        }
      ]
    },
    {
      "cell_type": "code",
      "metadata": {
        "id": "3KmUbiVxsyok"
      },
      "source": [
        "df=spark.read.csv('/content/spark-3.1.1-bin-hadoop3.2/weatherHistory.csv',header=True,inferSchema=True)"
      ],
      "execution_count": 15,
      "outputs": []
    },
    {
      "cell_type": "code",
      "metadata": {
        "colab": {
          "base_uri": "https://localhost:8080/"
        },
        "id": "rGJp9iF1uVYV",
        "outputId": "22ac2b77-e367-433f-ce3b-f937429d938c"
      },
      "source": [
        "df.head(5)"
      ],
      "execution_count": 16,
      "outputs": [
        {
          "output_type": "execute_result",
          "data": {
            "text/plain": [
              "[Row(Formatted Date='2006-04-01 00:00:00.000 +0200', Summary='Partly Cloudy', Precip Type='rain', Temperature (C)=9.472222222222221, Apparent Temperature (C)=7.3888888888888875, Humidity=0.89, Wind Speed (km/h)=14.1197, Wind Bearing (degrees)=251.0, Visibility (km)=15.826300000000002, Loud Cover=0.0, Pressure (millibars)=1015.13, Daily Summary='Partly cloudy throughout the day.'),\n",
              " Row(Formatted Date='2006-04-01 01:00:00.000 +0200', Summary='Partly Cloudy', Precip Type='rain', Temperature (C)=9.355555555555558, Apparent Temperature (C)=7.227777777777776, Humidity=0.86, Wind Speed (km/h)=14.2646, Wind Bearing (degrees)=259.0, Visibility (km)=15.826300000000002, Loud Cover=0.0, Pressure (millibars)=1015.63, Daily Summary='Partly cloudy throughout the day.'),\n",
              " Row(Formatted Date='2006-04-01 02:00:00.000 +0200', Summary='Mostly Cloudy', Precip Type='rain', Temperature (C)=9.377777777777778, Apparent Temperature (C)=9.377777777777778, Humidity=0.89, Wind Speed (km/h)=3.9284000000000003, Wind Bearing (degrees)=204.0, Visibility (km)=14.9569, Loud Cover=0.0, Pressure (millibars)=1015.94, Daily Summary='Partly cloudy throughout the day.'),\n",
              " Row(Formatted Date='2006-04-01 03:00:00.000 +0200', Summary='Partly Cloudy', Precip Type='rain', Temperature (C)=8.28888888888889, Apparent Temperature (C)=5.944444444444446, Humidity=0.83, Wind Speed (km/h)=14.1036, Wind Bearing (degrees)=269.0, Visibility (km)=15.826300000000002, Loud Cover=0.0, Pressure (millibars)=1016.41, Daily Summary='Partly cloudy throughout the day.'),\n",
              " Row(Formatted Date='2006-04-01 04:00:00.000 +0200', Summary='Mostly Cloudy', Precip Type='rain', Temperature (C)=8.755555555555553, Apparent Temperature (C)=6.977777777777779, Humidity=0.83, Wind Speed (km/h)=11.0446, Wind Bearing (degrees)=259.0, Visibility (km)=15.826300000000002, Loud Cover=0.0, Pressure (millibars)=1016.51, Daily Summary='Partly cloudy throughout the day.')]"
            ]
          },
          "metadata": {
            "tags": []
          },
          "execution_count": 16
        }
      ]
    },
    {
      "cell_type": "code",
      "metadata": {
        "colab": {
          "base_uri": "https://localhost:8080/"
        },
        "id": "Hto_AgWWwNRb",
        "outputId": "dc7fc311-6bc9-4b7e-bac1-03de60394981"
      },
      "source": [
        "df.printSchema()"
      ],
      "execution_count": 17,
      "outputs": [
        {
          "output_type": "stream",
          "text": [
            "root\n",
            " |-- Formatted Date: string (nullable = true)\n",
            " |-- Summary: string (nullable = true)\n",
            " |-- Precip Type: string (nullable = true)\n",
            " |-- Temperature (C): double (nullable = true)\n",
            " |-- Apparent Temperature (C): double (nullable = true)\n",
            " |-- Humidity: double (nullable = true)\n",
            " |-- Wind Speed (km/h): double (nullable = true)\n",
            " |-- Wind Bearing (degrees): double (nullable = true)\n",
            " |-- Visibility (km): double (nullable = true)\n",
            " |-- Loud Cover: double (nullable = true)\n",
            " |-- Pressure (millibars): double (nullable = true)\n",
            " |-- Daily Summary: string (nullable = true)\n",
            "\n"
          ],
          "name": "stdout"
        }
      ]
    },
    {
      "cell_type": "code",
      "metadata": {
        "colab": {
          "base_uri": "https://localhost:8080/"
        },
        "id": "tuF_e5SCt6zm",
        "outputId": "50e5f18a-8d12-4bcc-da64-12675f3a5b47"
      },
      "source": [
        "df.describe().show()"
      ],
      "execution_count": 18,
      "outputs": [
        {
          "output_type": "stream",
          "text": [
            "+-------+--------------------+--------------------+-----------+-------------------+------------------------+------------------+------------------+----------------------+------------------+----------+--------------------+--------------------+\n",
            "|summary|      Formatted Date|             Summary|Precip Type|    Temperature (C)|Apparent Temperature (C)|          Humidity| Wind Speed (km/h)|Wind Bearing (degrees)|   Visibility (km)|Loud Cover|Pressure (millibars)|       Daily Summary|\n",
            "+-------+--------------------+--------------------+-----------+-------------------+------------------------+------------------+------------------+----------------------+------------------+----------+--------------------+--------------------+\n",
            "|  count|               96453|               96453|      96453|              96453|                   96453|             96453|             96453|                 96453|             96453|     96453|               96453|               96453|\n",
            "|   mean|                null|                null|       null|  11.93267843751187|      10.855028874166628|0.7348989663359073|10.810640140793595|    187.50923247592092|10.347324929240118|       0.0|  1003.2359558541439|                null|\n",
            "| stddev|                null|                null|       null|  9.551546320657014|       10.69684739211915|0.1954727390672151| 6.913571012591993|    107.38342838070588| 4.192123191422769|       0.0|  116.96990568257993|                null|\n",
            "|    min|2006-01-01 00:00:...|              Breezy|       null|-21.822222222222223|     -27.716666666666665|               0.0|               0.0|                   0.0|               0.0|       0.0|                 0.0|Breezy and foggy ...|\n",
            "|    max|2016-12-31 23:00:...|Windy and Partly ...|       snow|  39.90555555555555|       39.34444444444444|               1.0|63.852599999999995|                 359.0|              16.1|       0.0|             1046.38|Windy in the afte...|\n",
            "+-------+--------------------+--------------------+-----------+-------------------+------------------------+------------------+------------------+----------------------+------------------+----------+--------------------+--------------------+\n",
            "\n"
          ],
          "name": "stdout"
        }
      ]
    },
    {
      "cell_type": "code",
      "metadata": {
        "colab": {
          "base_uri": "https://localhost:8080/"
        },
        "id": "BzYyazsNv8UZ",
        "outputId": "67465d9d-06b7-4f0c-a7dd-bfbcb2c7feca"
      },
      "source": [
        "from pyspark.sql.functions import corr\n",
        "df.select(corr('Humidity','Temperature (C)')).show()"
      ],
      "execution_count": 20,
      "outputs": [
        {
          "output_type": "stream",
          "text": [
            "+-------------------------------+\n",
            "|corr(Humidity, Temperature (C))|\n",
            "+-------------------------------+\n",
            "|            -0.6322546750278134|\n",
            "+-------------------------------+\n",
            "\n"
          ],
          "name": "stdout"
        }
      ]
    },
    {
      "cell_type": "code",
      "metadata": {
        "colab": {
          "base_uri": "https://localhost:8080/"
        },
        "id": "CTLflLfrzOPn",
        "outputId": "b83d5264-472d-456c-a31a-3aa9ae3ed295"
      },
      "source": [
        "df.select('Summary').distinct().show()"
      ],
      "execution_count": 21,
      "outputs": [
        {
          "output_type": "stream",
          "text": [
            "+--------------------+\n",
            "|             Summary|\n",
            "+--------------------+\n",
            "|              Breezy|\n",
            "|Humid and Mostly ...|\n",
            "|  Windy and Overcast|\n",
            "|               Foggy|\n",
            "|Humid and Partly ...|\n",
            "|     Windy and Foggy|\n",
            "|Breezy and Partly...|\n",
            "|                 Dry|\n",
            "|             Drizzle|\n",
            "|      Breezy and Dry|\n",
            "|       Partly Cloudy|\n",
            "|               Clear|\n",
            "|       Windy and Dry|\n",
            "|       Mostly Cloudy|\n",
            "|    Breezy and Foggy|\n",
            "| Breezy and Overcast|\n",
            "|Dangerously Windy...|\n",
            "|          Light Rain|\n",
            "|Breezy and Mostly...|\n",
            "|Dry and Mostly Cl...|\n",
            "+--------------------+\n",
            "only showing top 20 rows\n",
            "\n"
          ],
          "name": "stdout"
        }
      ]
    },
    {
      "cell_type": "code",
      "metadata": {
        "colab": {
          "base_uri": "https://localhost:8080/"
        },
        "id": "AYAos_auYvVc",
        "outputId": "be64219b-5203-41c1-80fa-f0b1df17c886"
      },
      "source": [
        "df.columns"
      ],
      "execution_count": 22,
      "outputs": [
        {
          "output_type": "execute_result",
          "data": {
            "text/plain": [
              "['Formatted Date',\n",
              " 'Summary',\n",
              " 'Precip Type',\n",
              " 'Temperature (C)',\n",
              " 'Apparent Temperature (C)',\n",
              " 'Humidity',\n",
              " 'Wind Speed (km/h)',\n",
              " 'Wind Bearing (degrees)',\n",
              " 'Visibility (km)',\n",
              " 'Loud Cover',\n",
              " 'Pressure (millibars)',\n",
              " 'Daily Summary']"
            ]
          },
          "metadata": {
            "tags": []
          },
          "execution_count": 22
        }
      ]
    },
    {
      "cell_type": "code",
      "metadata": {
        "id": "BvD8iRpHX6xx"
      },
      "source": [
        "from pyspark.ml.regression import LinearRegression"
      ],
      "execution_count": 23,
      "outputs": []
    },
    {
      "cell_type": "code",
      "metadata": {
        "id": "dkYf5aFFYbPO"
      },
      "source": [
        "from pyspark.ml.linalg import Vectors\n",
        "from pyspark.ml.feature import VectorAssembler"
      ],
      "execution_count": 24,
      "outputs": []
    },
    {
      "cell_type": "code",
      "metadata": {
        "id": "fTFYSIsmYcrI"
      },
      "source": [
        "assembler= VectorAssembler(inputCols=['Humidity','Wind Speed (km/h)','Loud Cover','Pressure (millibars)',\n",
        "                                      'Wind Bearing (degrees)','Apparent Temperature (C)','Visibility (km)'],outputCol='features')"
      ],
      "execution_count": 25,
      "outputs": []
    },
    {
      "cell_type": "code",
      "metadata": {
        "id": "4wO2hWWBdE8b"
      },
      "source": [
        "output=assembler.transform(df)"
      ],
      "execution_count": 26,
      "outputs": []
    },
    {
      "cell_type": "code",
      "metadata": {
        "colab": {
          "base_uri": "https://localhost:8080/"
        },
        "id": "QzNh723RdPP2",
        "outputId": "35b18a3a-abf3-4b3c-d06b-cccda75edfb9"
      },
      "source": [
        "output.printSchema()"
      ],
      "execution_count": 27,
      "outputs": [
        {
          "output_type": "stream",
          "text": [
            "root\n",
            " |-- Formatted Date: string (nullable = true)\n",
            " |-- Summary: string (nullable = true)\n",
            " |-- Precip Type: string (nullable = true)\n",
            " |-- Temperature (C): double (nullable = true)\n",
            " |-- Apparent Temperature (C): double (nullable = true)\n",
            " |-- Humidity: double (nullable = true)\n",
            " |-- Wind Speed (km/h): double (nullable = true)\n",
            " |-- Wind Bearing (degrees): double (nullable = true)\n",
            " |-- Visibility (km): double (nullable = true)\n",
            " |-- Loud Cover: double (nullable = true)\n",
            " |-- Pressure (millibars): double (nullable = true)\n",
            " |-- Daily Summary: string (nullable = true)\n",
            " |-- features: vector (nullable = true)\n",
            "\n"
          ],
          "name": "stdout"
        }
      ]
    },
    {
      "cell_type": "code",
      "metadata": {
        "id": "OmibpMKtd3x9"
      },
      "source": [
        "final_data=output.select('features','Temperature (C)')"
      ],
      "execution_count": 33,
      "outputs": []
    },
    {
      "cell_type": "code",
      "metadata": {
        "id": "pc3SqSKnd-xD"
      },
      "source": [
        "train_data,test_data=final_data.randomSplit([0.7,0.3])"
      ],
      "execution_count": 29,
      "outputs": []
    },
    {
      "cell_type": "code",
      "metadata": {
        "id": "lzpFyz6QeGPi"
      },
      "source": [
        "lr=LinearRegression(labelCol='Temperature (C)')"
      ],
      "execution_count": 30,
      "outputs": []
    },
    {
      "cell_type": "code",
      "metadata": {
        "id": "8jSIipQQefi4"
      },
      "source": [
        "lr_model=lr.fit(train_data)"
      ],
      "execution_count": 34,
      "outputs": []
    },
    {
      "cell_type": "code",
      "metadata": {
        "id": "BK62w4Xpes1A"
      },
      "source": [
        "test_results=lr_model.evaluate(test_data)"
      ],
      "execution_count": 35,
      "outputs": []
    },
    {
      "cell_type": "code",
      "metadata": {
        "colab": {
          "base_uri": "https://localhost:8080/"
        },
        "id": "rKVuJ7Ese0cc",
        "outputId": "133ed1ef-8983-4b71-ba9d-00ecd67d7169"
      },
      "source": [
        "test_results.residuals.show()"
      ],
      "execution_count": 36,
      "outputs": [
        {
          "output_type": "stream",
          "text": [
            "+--------------------+\n",
            "|           residuals|\n",
            "+--------------------+\n",
            "| -0.7897372877011994|\n",
            "|  -2.319957478452939|\n",
            "|  0.7029078672809064|\n",
            "| -0.8556577870613422|\n",
            "|  1.1194014821080778|\n",
            "| -0.2017947345586748|\n",
            "| 0.09847293355140074|\n",
            "| -0.8412206748683699|\n",
            "|-0.36822704627151914|\n",
            "| -1.2811816818278912|\n",
            "| -1.1347962985926525|\n",
            "|-0.08141735433788355|\n",
            "| -3.1794400173217396|\n",
            "| -1.1120370537919229|\n",
            "| 0.42184359225515067|\n",
            "| 0.29456614260475256|\n",
            "| 0.40071857600040905|\n",
            "|  1.7334518852526895|\n",
            "| -2.2646487060994964|\n",
            "|-0.15524801687148937|\n",
            "+--------------------+\n",
            "only showing top 20 rows\n",
            "\n"
          ],
          "name": "stdout"
        }
      ]
    },
    {
      "cell_type": "code",
      "metadata": {
        "colab": {
          "base_uri": "https://localhost:8080/"
        },
        "id": "qg5pbd_ze80R",
        "outputId": "93a1382d-70a9-4f3e-ab0c-d876992f37d0"
      },
      "source": [
        "test_results.rootMeanSquaredError"
      ],
      "execution_count": 37,
      "outputs": [
        {
          "output_type": "execute_result",
          "data": {
            "text/plain": [
              "0.941249657233806"
            ]
          },
          "metadata": {
            "tags": []
          },
          "execution_count": 37
        }
      ]
    },
    {
      "cell_type": "code",
      "metadata": {
        "colab": {
          "base_uri": "https://localhost:8080/"
        },
        "id": "6mnNdIrQfDUr",
        "outputId": "a4c1bd32-15fe-4007-c573-2d5f4d34a2fa"
      },
      "source": [
        "test_results.r2"
      ],
      "execution_count": 38,
      "outputs": [
        {
          "output_type": "execute_result",
          "data": {
            "text/plain": [
              "0.9902731171846357"
            ]
          },
          "metadata": {
            "tags": []
          },
          "execution_count": 38
        }
      ]
    },
    {
      "cell_type": "code",
      "metadata": {
        "id": "sKMSu-8ifOVI"
      },
      "source": [
        "unlabelled_data=test_data.select('features')"
      ],
      "execution_count": 49,
      "outputs": []
    },
    {
      "cell_type": "code",
      "metadata": {
        "colab": {
          "base_uri": "https://localhost:8080/"
        },
        "id": "G9NRb78sfh_k",
        "outputId": "0221d5b6-497f-445e-c0f2-eed44b72dadb"
      },
      "source": [
        "unlabelled_data.show()"
      ],
      "execution_count": 50,
      "outputs": [
        {
          "output_type": "stream",
          "text": [
            "+--------------------+\n",
            "|            features|\n",
            "+--------------------+\n",
            "|(7,[0,3,5],[0.6,1...|\n",
            "|(7,[0,3,5],[0.92,...|\n",
            "|(7,[0,3,5],[0.96,...|\n",
            "|(7,[0,3,5],[1.0,1...|\n",
            "|(7,[0,5,6],[0.5,2...|\n",
            "|(7,[0,5,6],[0.77,...|\n",
            "|(7,[0,5,6],[0.78,...|\n",
            "|(7,[0,5,6],[0.79,...|\n",
            "|(7,[0,5,6],[0.8,1...|\n",
            "|(7,[0,5,6],[0.92,...|\n",
            "|(7,[0,5,6],[0.96,...|\n",
            "|(7,[0,5,6],[1.0,1...|\n",
            "|[0.0,4.4275,0.0,1...|\n",
            "|[0.0,6.44,0.0,101...|\n",
            "|[0.0,11.270000000...|\n",
            "|[0.0,11.270000000...|\n",
            "|[0.0,20.93,0.0,10...|\n",
            "|[0.0,22.540000000...|\n",
            "|[0.14,20.93,0.0,1...|\n",
            "|[0.15,5.2969,0.0,...|\n",
            "+--------------------+\n",
            "only showing top 20 rows\n",
            "\n"
          ],
          "name": "stdout"
        }
      ]
    },
    {
      "cell_type": "code",
      "metadata": {
        "id": "XsZfGtvWfwDM"
      },
      "source": [
        "prediction=lr_model.transform(unlabelled_data)"
      ],
      "execution_count": 51,
      "outputs": []
    },
    {
      "cell_type": "code",
      "metadata": {
        "colab": {
          "base_uri": "https://localhost:8080/"
        },
        "id": "rSXhwYOziJqt",
        "outputId": "4bb8b89f-4d48-44e5-833e-7832e0aae6b9"
      },
      "source": [
        "df.select(test_data['Temperature (c)']).show()"
      ],
      "execution_count": 53,
      "outputs": [
        {
          "output_type": "stream",
          "text": [
            "+------------------+\n",
            "|   Temperature (c)|\n",
            "+------------------+\n",
            "| 9.472222222222221|\n",
            "| 9.355555555555558|\n",
            "| 9.377777777777778|\n",
            "|  8.28888888888889|\n",
            "| 8.755555555555553|\n",
            "| 9.222222222222221|\n",
            "| 7.733333333333334|\n",
            "|  8.77222222222222|\n",
            "| 10.82222222222222|\n",
            "| 13.77222222222222|\n",
            "|16.016666666666666|\n",
            "|17.144444444444446|\n",
            "|17.800000000000004|\n",
            "|17.333333333333332|\n",
            "| 18.87777777777778|\n",
            "|18.911111111111115|\n",
            "| 15.38888888888889|\n",
            "|15.550000000000002|\n",
            "|14.255555555555553|\n",
            "|13.144444444444442|\n",
            "+------------------+\n",
            "only showing top 20 rows\n",
            "\n"
          ],
          "name": "stdout"
        }
      ]
    },
    {
      "cell_type": "code",
      "metadata": {
        "colab": {
          "base_uri": "https://localhost:8080/"
        },
        "id": "Qahm0h9-f5A9",
        "outputId": "9e13c648-fc95-466d-8ad8-4fe3d3a61bce"
      },
      "source": [
        "prediction.show()"
      ],
      "execution_count": 42,
      "outputs": [
        {
          "output_type": "stream",
          "text": [
            "+--------------------+-------------------+\n",
            "|            features|         prediction|\n",
            "+--------------------+-------------------+\n",
            "|(7,[0,3,5],[0.6,1...|  8.567515065478977|\n",
            "|(7,[0,3,5],[0.92,...| -5.457820299324839|\n",
            "|(7,[0,3,5],[0.96,...| 14.852647688274649|\n",
            "|(7,[0,3,5],[1.0,1...| 3.7001022315057854|\n",
            "|(7,[0,5,6],[0.5,2...| 24.991709629003033|\n",
            "|(7,[0,5,6],[0.77,...| 12.951794734558677|\n",
            "|(7,[0,5,6],[0.78,...|   14.9015270664486|\n",
            "|(7,[0,5,6],[0.79,...|  8.063442897090592|\n",
            "|(7,[0,5,6],[0.8,1...|  11.47933815738263|\n",
            "|(7,[0,5,6],[0.92,...| 3.5034039040501135|\n",
            "|(7,[0,5,6],[0.96,...|   3.91257407637043|\n",
            "|(7,[0,5,6],[1.0,1...| 11.242528465448997|\n",
            "|[0.0,4.4275,0.0,1...| 2.0683289062106285|\n",
            "|[0.0,6.44,0.0,101...|-14.443518501763633|\n",
            "|[0.0,11.270000000...| -16.53295470336626|\n",
            "|[0.0,11.270000000...|-14.183455031493642|\n",
            "|[0.0,20.93,0.0,10...| 0.7103925351107021|\n",
            "|[0.0,22.540000000...| -13.95567410747491|\n",
            "|[0.14,20.93,0.0,1...| 17.264648706099496|\n",
            "|[0.15,5.2969,0.0,...|  21.36080357242705|\n",
            "+--------------------+-------------------+\n",
            "only showing top 20 rows\n",
            "\n"
          ],
          "name": "stdout"
        }
      ]
    },
    {
      "cell_type": "markdown",
      "metadata": {
        "id": "_Bra6_M5tOU2"
      },
      "source": [
        "PYSPARK MLlib"
      ]
    }
  ]
}